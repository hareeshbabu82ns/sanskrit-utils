{
 "cells": [
  {
   "cell_type": "markdown",
   "metadata": {},
   "source": [
    "Click the button to launch this notebook in Binder: [![Binder](https://mybinder.org/badge_logo.svg)](https://mybinder.org/v2/gh/kmadathil/sanskrit_parser/HEAD?filepath=examples%252Fbasic_example.ipynb)\n"
   ]
  },
  {
   "cell_type": "markdown",
   "metadata": {
    "id": "gOp8762Ea8eQ"
   },
   "source": [
    "# Sanskrit Parser Examples\n",
    "\n",
    "The `sanskrit_parser` module supports 3 different usages, in order of increasing complexity:\n",
    "1. tags - Morphological analysis of a word\n",
    "2. sandhi - Sandhi split of a phrase\n",
    "3. vakya - Morpho-syntactic analysis of a sentence (after Sandhi split)\n",
    "\n",
    "In this notebook, we will see how to use the API to perform the latter two tasks - sandhi splitting and vakya analysis in python code.\n",
    "\n",
    "Command line usage of the scripts is very similar and is documented [here](https://kmadathil.github.io/sanskrit_parser/build/html/)"
   ]
  },
  {
   "cell_type": "markdown",
   "metadata": {
    "id": "po7dmavAbJl_"
   },
   "source": [
    "## Installation\n",
    "\n",
    "Sanskrit Parser can be easily installed using `pip`. \n",
    "\n",
    "If we are running on Binder, we can skip this step. If not, please uncomment and run one of the cells below.\n",
    "\n",
    "To directly install from the github repo to get the latest version of the package:\n"
   ]
  },
  {
   "cell_type": "code",
   "execution_count": 1,
   "metadata": {
    "id": "YcDzb3zIa2VD"
   },
   "outputs": [],
   "source": [
    "# !pip install git+https://github.com/kmadathil/sanskrit_parser"
   ]
  },
  {
   "cell_type": "markdown",
   "metadata": {
    "id": "oCZ0t8XdbnsV"
   },
   "source": [
    "Alternately, to install from the latest version on pypi, uncomment and run the cell below"
   ]
  },
  {
   "cell_type": "code",
   "execution_count": 2,
   "metadata": {
    "id": "O9mKlV3mb6fh"
   },
   "outputs": [],
   "source": [
    "# !pip install sanskrit_parser"
   ]
  },
  {
   "cell_type": "markdown",
   "metadata": {
    "id": "YCYOYyQ9b-uW"
   },
   "source": [
    "## Sandhi Splitting\n",
    "\n",
    "Splitting sandhis in a long phrase/sentence to obtain the constituent words can be done in just a few lines of code. \n",
    "\n",
    "First, let's import the `Parser` class that is used for most of the tasks.\n",
    "\n"
   ]
  },
  {
   "cell_type": "code",
   "execution_count": 3,
   "metadata": {
    "id": "b4yymbkfd6VG"
   },
   "outputs": [],
   "source": [
    "from sanskrit_parser import Parser"
   ]
  },
  {
   "cell_type": "markdown",
   "metadata": {
    "id": "pvhXPWoneEcl"
   },
   "source": [
    "The `Parser` object supports various options for controlling the parsing, as well as the input and output formats. Here, let us specify that we want output in Devanagari (default is SLP1). The other options available can be seen [here](https://kmadathil.github.io/sanskrit_parser/build/html/sanskrit_parser_api.html#sanskrit_parser.api.Parser)"
   ]
  },
  {
   "cell_type": "code",
   "execution_count": 4,
   "metadata": {},
   "outputs": [],
   "source": [
    "parser = Parser(output_encoding='Devanagari')"
   ]
  },
  {
   "cell_type": "markdown",
   "metadata": {},
   "source": [
    "As an example, let us try a long phrase from the चम्पूरामायणम् of भोजः । We will ask the parser to find at most 10 splits."
   ]
  },
  {
   "cell_type": "code",
   "execution_count": 5,
   "metadata": {
    "scrolled": true
   },
   "outputs": [
    {
     "name": "stdout",
     "output_type": "stream",
     "text": [
      "['तस्मात्', 'समस्त', 'क्षत्र', 'वर्ग', 'गर्व', 'पाटन', 'वरिष्ठ', 'धारा', 'परशु', 'अध', 'भरण', 'भीषण', 'वेष', 'भार्गव', 'भङ्गात्', 'अपरि', 'छिन्न', 'तर', 'शौर्य', 'शालि', 'नि']\n",
      "['तस्मात्', 'समस्त', 'क्षत्र', 'वर्ग', 'गर्व', 'पाटन', 'वरिष्ठ', 'ध', 'आरा', 'परश्वध', 'भरण', 'भीषण', 'वेष', 'भार्गव', 'भङ्गात्', 'अपरि', 'छिन्न', 'तर', 'शौर्य', 'शालि', 'नि']\n",
      "['तस्मात्', 'समस्त', 'क्षत्र', 'वर्ग', 'गर्व', 'पाटन', 'वरिष्ठ', 'धारा', 'परशु', 'अध', 'भरण', 'भीषण', 'वेष', 'भार्गव', 'भङ्गात्', 'अपरि', 'छिन्न', 'तर', 'शौर्य', 'शालिनि']\n",
      "['तस्मात्', 'समस्त', 'क्षत्र', 'वर्ग', 'गर्व', 'पाटन', 'वरिष्ठ', 'ध', 'आरा', 'परश्वध', 'भरण', 'भीषण', 'वेष', 'भार्गव', 'भङ्गात्', 'अपरि', 'छिन्न', 'तर', 'शौर्य', 'शालिनि']\n",
      "['तस्मात्', 'समस्त', 'क्षत्र', 'वर्ग', 'गर्व', 'पाटन', 'वरिष्ठ', 'धारा', 'परश्वध', 'भरण', 'भीषण', 'वेष', 'भार्गव', 'भङ्गात्', 'अपरि', 'छिन्न', 'तर', 'शौर्य', 'शालि', 'नि']\n",
      "['तस्मात्', 'समस्त', 'क्षत्र', 'वर्ग', 'गर्व', 'पाट', 'न', 'वरिष्ठ', 'धारा', 'परशु', 'अध', 'भरण', 'भीषण', 'वेष', 'भार्गव', 'भङ्गात्', 'अपरि', 'छिन्न', 'तर', 'शौर्य', 'शालिनि']\n",
      "['तस्मात्', 'समस्त', 'क्षत्र', 'वर्ग', 'गर्व', 'पाटन', 'वरिष्ठ', 'धारा', 'परश्वध', 'भरण', 'भीषण', 'वेष', 'भार्गव', 'भङ्गात्', 'अपरि', 'छिन्न', 'तर', 'शौर्य', 'शालिनि']\n",
      "['तस्मात्', 'समस्त', 'क्षत्र', 'वर्ग', 'गर्व', 'पाट', 'न', 'वरिष्ठ', 'धारा', 'परश्वध', 'भरण', 'भीषण', 'वेष', 'भार्गव', 'भङ्गात्', 'अपरि', 'छिन्न', 'तर', 'शौर्य', 'शालिनि']\n",
      "['तस्मात्', 'समस्त', 'क्षत्र', 'वर्ग', 'गर्व', 'पाटन', 'वरिष्ठ', 'धारा', 'परश्व', 'ध', 'भरण', 'भीषण', 'वेष', 'भार्गव', 'भङ्गात्', 'अपरि', 'छिन्न', 'तर', 'शौर्य', 'शालि', 'नि']\n",
      "['तस्मात्', 'समस्त', 'क्षत्र', 'वर्ग', 'गर्व', 'पाटन', 'वरिष्ठ', 'धारा', 'परश्व', 'ध', 'भरण', 'भीषण', 'वेष', 'भार्गव', 'भङ्गात्', 'अपरि', 'छिन्न', 'तर', 'शौर्य', 'शालिनि']\n"
     ]
    }
   ],
   "source": [
    "text = 'तस्मात्समस्तक्षत्रवर्गगर्वपाटनवरिष्ठधारापरश्वधभरणभीषणवेषभार्गवभङ्गादपरिच्छिन्नतरशौर्यशालिनि'\n",
    "splits = parser.split(text, limit=10)\n",
    "for split in splits:\n",
    "    print(f'{split}')"
   ]
  },
  {
   "cell_type": "markdown",
   "metadata": {},
   "source": [
    "As we can see, the parser did a decent job of splitting this long phrase, though it does some over splitting. Hopefully, this should point a student in the correct direction."
   ]
  },
  {
   "cell_type": "markdown",
   "metadata": {},
   "source": [
    "## Vakya Analysis\n",
    "\n",
    "Next, let us use the parser for analyzing a sentence and understanding the relationships among the words. We will use a simple sentence to illustrate the parser's capabilities."
   ]
  },
  {
   "cell_type": "code",
   "execution_count": 6,
   "metadata": {},
   "outputs": [],
   "source": [
    "sentence = 'देवदत्तः ग्रामं गच्छति'"
   ]
  },
  {
   "cell_type": "markdown",
   "metadata": {},
   "source": [
    "We can now split the sentence to convert it to the parser's internal representation. Since we know that there is no sandhi in this sentence, we can pass `pre_segmented=True` to indicate this to the parser, and retain just the first split."
   ]
  },
  {
   "cell_type": "code",
   "execution_count": 7,
   "metadata": {},
   "outputs": [
    {
     "name": "stdout",
     "output_type": "stream",
     "text": [
      "['देवदत्तः', 'ग्रामम्', 'गच्छति']\n"
     ]
    }
   ],
   "source": [
    "split = parser.split(sentence, pre_segmented=True)[0]\n",
    "print(f'{split}')"
   ]
  },
  {
   "cell_type": "code",
   "execution_count": 8,
   "metadata": {},
   "outputs": [
    {
     "name": "stdout",
     "output_type": "stream",
     "text": [
      "Parse 0\n",
      "देवदत्तः => (देवदत्त, ['पुंल्लिङ्गम्', 'एकवचनम्', 'प्रथमाविभक्तिः']) : कर्ता of गच्छति\n",
      "ग्रामम् => (ग्राम, ['पुंल्लिङ्गम्', 'एकवचनम्', 'द्वितीयाविभक्तिः']) : कर्म of गच्छति\n",
      "गच्छति => (गम्, ['लट्', 'कर्तरि', 'परस्मैपदम्', 'प्रथमपुरुषः', 'प्राथमिकः', 'एकवचनम्'])\n",
      "Parse 1\n",
      "देवदत्तः => (देवदत्त, ['पुंल्लिङ्गम्', 'एकवचनम्', 'प्रथमाविभक्तिः']) : कर्ता of गच्छति\n",
      "ग्रामम् => (ग्राम, ['नपुंसकलिङ्गम्', 'एकवचनम्', 'द्वितीयाविभक्तिः']) : कर्म of गच्छति\n",
      "गच्छति => (गम्, ['लट्', 'कर्तरि', 'परस्मैपदम्', 'प्रथमपुरुषः', 'प्राथमिकः', 'एकवचनम्'])\n"
     ]
    }
   ],
   "source": [
    "parses = list(split.parse(limit=2))\n",
    "for i, parse in enumerate(parses):\n",
    "    print(f'Parse {i}')\n",
    "    print(f'{parse}')"
   ]
  },
  {
   "cell_type": "markdown",
   "metadata": {},
   "source": [
    "For visualization, the parses can be converted to the GraphViz DOT format."
   ]
  },
  {
   "cell_type": "code",
   "execution_count": 9,
   "metadata": {},
   "outputs": [
    {
     "name": "stdout",
     "output_type": "stream",
     "text": [
      "digraph  {\n",
      "\"grAmam [grAma, {puMlliNgam, ekavacanam, dvitIyAviBaktiH}] 1\";\n",
      "\"gacCati [gam, {law, kartari, parasmEpadam, praTamapuruzaH, prATamikaH, ekavacanam}] 2\";\n",
      "\"devadattas [devadatta, {puMlliNgam, ekavacanam, praTamAviBaktiH}] 0\";\n",
      "\"gacCati [gam, {law, kartari, parasmEpadam, praTamapuruzaH, prATamikaH, ekavacanam}] 2\" -> \"devadattas [devadatta, {puMlliNgam, ekavacanam, praTamAviBaktiH}] 0\"  [key=0, label=kartA];\n",
      "\"gacCati [gam, {law, kartari, parasmEpadam, praTamapuruzaH, prATamikaH, ekavacanam}] 2\" -> \"grAmam [grAma, {puMlliNgam, ekavacanam, dvitIyAviBaktiH}] 1\"  [key=0, label=karma];\n",
      "}\n",
      "\n"
     ]
    }
   ],
   "source": [
    "print(parses[0].to_dot())"
   ]
  },
  {
   "cell_type": "markdown",
   "metadata": {},
   "source": [
    "We can convert this representation to a picture using any tool that supports the DOT format. Let's use [image-charts.com] which exposes a REST API for generating charts."
   ]
  },
  {
   "cell_type": "code",
   "execution_count": 10,
   "metadata": {},
   "outputs": [
    {
     "data": {
      "text/html": [
       "<img src=\"https://image-charts.com/chart?cht=gv%3Adot&chl=digraph++%7B%0A%22grAmam+%5BgrAma%2C+%7BpuMlliNgam%2C+ekavacanam%2C+dvitIyAviBaktiH%7D%5D+1%22%3B%0A%22gacCati+%5Bgam%2C+%7Blaw%2C+kartari%2C+parasmEpadam%2C+praTamapuruzaH%2C+prATamikaH%2C+ekavacanam%7D%5D+2%22%3B%0A%22devadattas+%5Bdevadatta%2C+%7BpuMlliNgam%2C+ekavacanam%2C+praTamAviBaktiH%7D%5D+0%22%3B%0A%22gacCati+%5Bgam%2C+%7Blaw%2C+kartari%2C+parasmEpadam%2C+praTamapuruzaH%2C+prATamikaH%2C+ekavacanam%7D%5D+2%22+-%3E+%22devadattas+%5Bdevadatta%2C+%7BpuMlliNgam%2C+ekavacanam%2C+praTamAviBaktiH%7D%5D+0%22++%5Bkey%3D0%2C+label%3DkartA%5D%3B%0A%22gacCati+%5Bgam%2C+%7Blaw%2C+kartari%2C+parasmEpadam%2C+praTamapuruzaH%2C+prATamikaH%2C+ekavacanam%7D%5D+2%22+-%3E+%22grAmam+%5BgrAma%2C+%7BpuMlliNgam%2C+ekavacanam%2C+dvitIyAviBaktiH%7D%5D+1%22++%5Bkey%3D0%2C+label%3Dkarma%5D%3B%0A%7D%0A\"/>"
      ],
      "text/plain": [
       "<IPython.core.display.Image object>"
      ]
     },
     "execution_count": 10,
     "metadata": {},
     "output_type": "execute_result"
    }
   ],
   "source": [
    "from urllib.parse import urlencode\n",
    "from IPython.display import Image\n",
    "\n",
    "q = urlencode({'cht': 'gv:dot', 'chl': parses[0].to_dot()})\n",
    "url = f\"https://image-charts.com/chart?{q}\"\n",
    "Image(url=url)"
   ]
  },
  {
   "cell_type": "markdown",
   "metadata": {},
   "source": [
    "This shows the basic capabilities of the `sanskrit_parser`. For advanced usages, please consult the documentation."
   ]
  }
 ],
 "metadata": {
  "colab": {
   "authorship_tag": "ABX9TyM4mZrh48QdMuENtyPC8HdR",
   "name": "Sanskrit Parser Examples.ipynb",
   "provenance": []
  },
  "kernelspec": {
   "display_name": ".venv",
   "language": "python",
   "name": "python3"
  },
  "language_info": {
   "codemirror_mode": {
    "name": "ipython",
    "version": 3
   },
   "file_extension": ".py",
   "mimetype": "text/x-python",
   "name": "python",
   "nbconvert_exporter": "python",
   "pygments_lexer": "ipython3",
   "version": "3.12.3"
  }
 },
 "nbformat": 4,
 "nbformat_minor": 1
}
