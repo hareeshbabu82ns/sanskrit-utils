{
 "cells": [
  {
   "cell_type": "code",
   "execution_count": null,
   "id": "bbf937c5",
   "metadata": {},
   "outputs": [],
   "source": [
    "LEXICON_ALL_DICT = [\n",
    "    'ae', 'acc', 'ap90', 'armh', 'bor',\n",
    "    'ben', 'bhs', 'cae', 'gst', 'ieg',\n",
    "    'inm', 'krm', 'lan', 'mci', 'md',\n",
    "    'mw', 'mwe', 'mw72', 'pe', 'pui',\n",
    "    'shs', 'skd', 'snp', 'vcp', 'vei',\n",
    "    'wil', 'yat', 'pgn', 'eng2te', 'dhatu_pata'\n",
    "]\n",
    "\n",
    "# Dictionary - Database Names mapping\n",
    "LEXICON_ALL_DICT_TO_DB_MAP = (\n",
    "    (dictName, dictName.upper())\n",
    "    for dictName in LEXICON_ALL_DICT\n",
    ")\n",
    "LEXICON_ALL_DICT_TO_DB_MAP = dict(LEXICON_ALL_DICT_TO_DB_MAP)\n",
    "LEXICON_ALL_DICT_TO_DB_MAP['eng2te'] = 'ENG2TEL'\n",
    "\n",
    "# Database - Table Names mapping\n",
    "LEXICON_ALL_DICT_TO_TABLE_NAMES_MAP = dict(\n",
    "    (dbName, dbName if dbName != 'dhatu_pata' else 'dictEntries') for dbName in LEXICON_ALL_DICT\n",
    ")\n",
    "# Table Names - Word Field mapping\n",
    "LEXICON_ALL_TABLE_WORD_FIELD_MAP = dict(\n",
    "    (dbName, 'key') for dbName in LEXICON_ALL_DICT_TO_TABLE_NAMES_MAP.values()\n",
    ")\n",
    "LEXICON_ALL_TABLE_WORD_FIELD_MAP['eng2te'] = 'eng_word'\n",
    "LEXICON_ALL_TABLE_WORD_FIELD_MAP['dhatu_pata'] = 'word'\n",
    "\n",
    "print(f\"Dictionaries ({len(LEXICON_ALL_DICT_TO_DB_MAP)})\", LEXICON_ALL_DICT_TO_DB_MAP)\n",
    "print(f\"Database to Table Names ({len(LEXICON_ALL_DICT_TO_TABLE_NAMES_MAP)})\", LEXICON_ALL_TABLE_WORD_FIELD_MAP)"
   ]
  },
  {
   "cell_type": "code",
   "execution_count": null,
   "id": "7ace40bb",
   "metadata": {},
   "outputs": [],
   "source": [
    "import sqlite3\n",
    "import pandas as pd\n",
    "\n",
    "def list_tables(sqlite_file):\n",
    "  \"\"\"List all tables in the given SQLite database file.\"\"\"\n",
    "  conn = sqlite3.connect(sqlite_file)\n",
    "  cursor = conn.cursor()\n",
    "  cursor.execute(\"SELECT name FROM sqlite_master WHERE type='table';\")\n",
    "  tables = [row[0] for row in cursor.fetchall()]\n",
    "  conn.close()\n",
    "  return tables\n",
    "\n",
    "def table_structure(sqlite_file, table_name):\n",
    "  \"\"\"Display the structure (columns and types) of the given table.\"\"\"\n",
    "  conn = sqlite3.connect(sqlite_file)\n",
    "  cursor = conn.cursor()\n",
    "  cursor.execute(f\"PRAGMA table_info({table_name});\")\n",
    "  structure = cursor.fetchall()\n",
    "  conn.close()\n",
    "  # structure: [(cid, name, type, notnull, dflt_value, pk), ...]\n",
    "  columns = [\"cid\", \"name\", \"type\", \"notnull\", \"dflt_value\", \"pk\"]\n",
    "  return pd.DataFrame(structure, columns=columns)\n",
    "\n",
    "def display_table(sqlite_file, table_name, limit=10):\n",
    "  \"\"\"Display the data of the given table as rows and columns (default 10 rows).\"\"\"\n",
    "  conn = sqlite3.connect(sqlite_file)\n",
    "  df = pd.read_sql_query(f\"SELECT * FROM {table_name} LIMIT {limit}\", conn)\n",
    "  conn.close()\n",
    "  return df\n",
    "\n",
    "def get_table_rows_count(sqlite_file, table_name):\n",
    "  \"\"\"Fetch the number of rows of the given table.\"\"\"\n",
    "  conn = sqlite3.connect(sqlite_file)\n",
    "  cursor = conn.cursor()\n",
    "  cursor.execute(f\"SELECT COUNT(*) FROM {table_name};\")\n",
    "  row_count = cursor.fetchone()[0]\n",
    "  conn.close()\n",
    "  return row_count\n",
    "\n",
    "def get_table_unique_row_count(sqlite_file, table_name, field_name):\n",
    "  \"\"\"Fetch the number of unique rows of the given table.\"\"\"\n",
    "  conn = sqlite3.connect(sqlite_file)\n",
    "  cursor = conn.cursor()\n",
    "  cursor.execute(f\"SELECT COUNT(DISTINCT {field_name}) FROM {table_name};\")\n",
    "  unique_row_count = cursor.fetchone()[0]\n",
    "  conn.close()\n",
    "  return unique_row_count\n",
    "\n",
    "# function to return the unique values of the given field\n",
    "def get_unique_field_values(sqlite_file, table_name, field_name):\n",
    "    \"\"\"Fetch unique values of a specific field in the given table.\"\"\"\n",
    "    conn = sqlite3.connect(sqlite_file)\n",
    "    cursor = conn.cursor()\n",
    "    cursor.execute(f\"SELECT DISTINCT {field_name} FROM {table_name};\")\n",
    "    unique_values = [row[0] for row in cursor.fetchall()]\n",
    "    conn.close()\n",
    "    return unique_values"
   ]
  },
  {
   "cell_type": "code",
   "execution_count": null,
   "id": "624a042b",
   "metadata": {},
   "outputs": [],
   "source": [
    "def display_table_with_blob_as_text(sqlite_file, table_name, limit=10):\n",
    "  conn = sqlite3.connect(sqlite_file)\n",
    "  cursor = conn.cursor()\n",
    "  cursor.execute(f\"PRAGMA table_info({table_name});\")\n",
    "  columns_info = cursor.fetchall()\n",
    "  columns = [col[1] for col in columns_info]\n",
    "  types = {col[1]: col[2].upper() for col in columns_info}\n",
    "\n",
    "  query = f\"SELECT * FROM {table_name} LIMIT {limit}\"\n",
    "  cursor.execute(query)\n",
    "  rows = cursor.fetchall()\n",
    "  conn.close()\n",
    "\n",
    "  # Convert BLOB columns to string\n",
    "  def convert_blob(val, col):\n",
    "    if types[col] == 'BLOB' and isinstance(val, (bytes, bytearray)):\n",
    "      try:\n",
    "        return val.decode('utf-8', errors='replace')\n",
    "      except Exception:\n",
    "        return str(val)\n",
    "    return val\n",
    "\n",
    "  processed_rows = [\n",
    "    [convert_blob(val, col) for val, col in zip(row, columns)]\n",
    "    for row in rows\n",
    "  ]\n",
    "  return pd.DataFrame(processed_rows, columns=columns)"
   ]
  },
  {
   "cell_type": "code",
   "execution_count": null,
   "id": "33c85b74",
   "metadata": {},
   "outputs": [],
   "source": [
    "# function to loop through all dictionaries and count rows\n",
    "def count_rows_in_all_dictionaries():\n",
    "    \"\"\"Count rows in all dictionaries and return a DataFrame with counts.\"\"\"\n",
    "    counts = []\n",
    "    for dict_name, table_name in LEXICON_ALL_DICT_TO_TABLE_NAMES_MAP.items():\n",
    "        try:\n",
    "            sqlite_file = f\"./tmp/{dict_name}.sqlite\"\n",
    "            row_count = get_table_rows_count(sqlite_file, table_name)\n",
    "            unique_row_count = get_table_unique_row_count(sqlite_file, table_name, LEXICON_ALL_TABLE_WORD_FIELD_MAP[dict_name])\n",
    "            counts.append((dict_name, row_count, unique_row_count))\n",
    "        except sqlite3.OperationalError as e:\n",
    "            print(f\"Error accessing {table_name}: {e}\")\n",
    "            counts.append((dict_name, None, None))\n",
    "\n",
    "    return pd.DataFrame(counts, columns=['Dictionary', 'Row Count', 'Unique Row Count'])\n",
    "\n",
    "def count_unique_words_in_all_dictionaries():\n",
    "    \"\"\"Count unique words in all dictionaries and return a DataFrame with counts.\"\"\"\n",
    "    words = set()\n",
    "    for dict_name, table_name in LEXICON_ALL_DICT_TO_TABLE_NAMES_MAP.items():\n",
    "        try:\n",
    "            sqlite_file = f\"./tmp/{dict_name}.sqlite\"\n",
    "            unique_words = get_unique_field_values(sqlite_file, table_name, LEXICON_ALL_TABLE_WORD_FIELD_MAP[dict_name])\n",
    "            words.update(unique_words)\n",
    "        except sqlite3.OperationalError as e:\n",
    "            print(f\"Error accessing {table_name}: {e}\")\n",
    "\n",
    "    # remove duplicates and return the count\n",
    "    return len(words)\n"
   ]
  },
  {
   "cell_type": "code",
   "execution_count": null,
   "id": "d446f345",
   "metadata": {},
   "outputs": [],
   "source": [
    "pd.set_option('display.max_colwidth', None)"
   ]
  },
  {
   "cell_type": "code",
   "execution_count": null,
   "id": "b1caa0cd",
   "metadata": {},
   "outputs": [],
   "source": [
    "# Count rows in all dictionaries and display totals\n",
    "# check Readme.md for the list of dictionaries and last calcualted totals\n",
    "def calculate_totals():\n",
    "  totals_per_each_db = count_rows_in_all_dictionaries()\n",
    "  total_unique_words = count_unique_words_in_all_dictionaries()\n",
    "  totals = totals_per_each_db['Row Count'].sum()\n",
    "  unique_totals = totals_per_each_db['Unique Row Count'].sum()\n",
    "  print(\"records:\", totals, \"unique words (individual):\", unique_totals, \"total unique words:\", total_unique_words)\n",
    "  print(totals_per_each_db.sort_values('Unique Row Count', ascending=False))\n",
    "\n",
    "# calculate_totals()"
   ]
  },
  {
   "cell_type": "code",
   "execution_count": null,
   "id": "8efea6b7",
   "metadata": {},
   "outputs": [],
   "source": [
    "# sqlite_file = \"./tmp/eng2te.sqlite\"\n",
    "# sqlite_file = \"./tmp/dhatu_pata.sqlite\"\n",
    "sqlite_file = \"./tmp/mw.sqlite\""
   ]
  },
  {
   "cell_type": "code",
   "execution_count": null,
   "id": "2ad3a64a",
   "metadata": {},
   "outputs": [],
   "source": [
    "list_tables(sqlite_file)"
   ]
  },
  {
   "cell_type": "code",
   "execution_count": null,
   "id": "b4b0e30b",
   "metadata": {},
   "outputs": [],
   "source": [
    "# table_structure(sqlite_file, table_name)\n",
    "for tbl in list_tables(sqlite_file):\n",
    "  print(f\"Table: {tbl}\")\n",
    "  display(table_structure(sqlite_file, tbl))"
   ]
  },
  {
   "cell_type": "code",
   "execution_count": null,
   "id": "c05f8aba",
   "metadata": {},
   "outputs": [],
   "source": [
    "# display_table(sqlite_file, table_name, limit=10)\n",
    "# display_table_with_blob_as_text(sqlite_file, table_name, limit=10)\n",
    "for tbl in list_tables(sqlite_file):\n",
    "  print(f\"Table: {tbl} - Rows: {get_table_rows_count(sqlite_file, tbl)}\")\n",
    "  display(display_table_with_blob_as_text(sqlite_file, tbl, limit=50))"
   ]
  },
  {
   "cell_type": "code",
   "execution_count": null,
   "id": "c165e675",
   "metadata": {},
   "outputs": [],
   "source": [
    "table_name = 'dictEntries_segdir'"
   ]
  },
  {
   "cell_type": "code",
   "execution_count": null,
   "id": "4a9dd0b8",
   "metadata": {},
   "outputs": [],
   "source": [
    "# display_table(sqlite_file, \"dictAbbs\", limit=50)"
   ]
  }
 ],
 "metadata": {
  "kernelspec": {
   "display_name": ".venv",
   "language": "python",
   "name": "python3"
  },
  "language_info": {
   "codemirror_mode": {
    "name": "ipython",
    "version": 3
   },
   "file_extension": ".py",
   "mimetype": "text/x-python",
   "name": "python",
   "nbconvert_exporter": "python",
   "pygments_lexer": "ipython3",
   "version": "3.12.3"
  }
 },
 "nbformat": 4,
 "nbformat_minor": 5
}
